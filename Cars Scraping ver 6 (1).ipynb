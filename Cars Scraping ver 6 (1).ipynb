{
 "cells": [
  {
   "cell_type": "code",
   "execution_count": 9,
   "id": "d9a0f08a",
   "metadata": {},
   "outputs": [],
   "source": [
    "import time\n",
    "from selenium import webdriver\n",
    "from selenium.webdriver.common.by import By\n",
    "from selenium.webdriver.support.ui import WebDriverWait\n",
    "from selenium.webdriver.support import expected_conditions as EC\n",
    "from selenium.webdriver.common.action_chains import ActionChains\n",
    "from selenium.common.exceptions import NoSuchElementException\n",
    "import re\n",
    "import threading\n",
    "import pandas as pd"
   ]
  },
  {
   "cell_type": "markdown",
   "id": "fd25086d",
   "metadata": {},
   "source": [
    "# New Cars Scraping"
   ]
  },
  {
   "cell_type": "code",
   "execution_count": 35,
   "id": "9ea800a7",
   "metadata": {},
   "outputs": [],
   "source": [
    "New_Cars_For_Sale = {'Model':[], 'Model_1': [], 'Model Year': [],'Car Status': [],'Car Price': [],'Body Shape': [],'Transmission': [],'Fuel Type': [],'Engine Capacity': [],\"Car About\":[],'Contact':[]}"
   ]
  },
  {
   "cell_type": "markdown",
   "id": "cad45b9b",
   "metadata": {},
   "source": [
    "get item Attributes By xpath for each item"
   ]
  },
  {
   "cell_type": "code",
   "execution_count": 11,
   "id": "f31448b4",
   "metadata": {},
   "outputs": [],
   "source": [
    "from selenium.common.exceptions import NoSuchElementException\n",
    "\n",
    "def find_element_or_none(driver, xpath):\n",
    "    try:\n",
    "        return driver.find_element(By.XPATH, xpath).text\n",
    "    except NoSuchElementException:\n",
    "        return None\n",
    "\n",
    "lock = threading.Lock()\n",
    "\n",
    "def get_item_info(driver, url):\n",
    "    # Existing code for retrieving item info...\n",
    "    # ...\n",
    "\n",
    "    # All info\n",
    "    a = find_element_or_none(driver, \"/html/body/app-root/app-index/div/div[3]/app-car-listing-base/app-index/app-new-used-car-details/div[1]/contact-car-details-sticky-mobile/div/div[1]/div[1]/div/h1/span[1]\")\n",
    "\n",
    "    b = find_element_or_none(driver, \"/html/body/app-root/app-index/div/div[3]/app-car-listing-base/app-index/app-new-used-car-details/div[1]/contact-car-details-sticky-mobile/div/div[1]/div[1]/div/h1/span[2]\")\n",
    "\n",
    "    c = find_element_or_none(driver, \"/html/body/app-root/app-index/div/div[3]/app-car-listing-base/app-index/app-new-used-car-details/div[1]/contact-car-details-sticky-mobile/div/div[1]/div[1]/div/h1/span[3]\")\n",
    "\n",
    "    d = find_element_or_none(driver, \"/html/body/app-root/app-index/div/div[3]/app-car-listing-base/app-index/app-new-used-car-details/div[1]/contact-car-details-sticky-mobile/div/div[1]/div[1]/div/h1/span[4]\")\n",
    "\n",
    "    e = find_element_or_none(driver, \"/html/body/app-root/app-index/div/div[3]/app-car-listing-base/app-index/app-new-used-car-details/div[1]/contact-car-details-sticky-mobile/div/div[1]/div[2]\")\n",
    "\n",
    "    f = find_element_or_none(driver, \"/html/body/app-root/app-index/div/div[3]/app-car-listing-base/app-index/app-new-used-car-details/div[2]/div[1]/div[2]/app-spec-item/p[1]\")\n",
    "\n",
    "    g = find_element_or_none(driver, \"/html/body/app-root/app-index/div/div[3]/app-car-listing-base/app-index/app-new-used-car-details/div[2]/div[1]/div[3]/app-spec-item/p[1]\")\n",
    "\n",
    "    h = find_element_or_none(driver, \"/html/body/app-root/app-index/div/div[3]/app-car-listing-base/app-index/app-new-used-car-details/div[2]/div[1]/div[4]/app-spec-item/p[1]\")\n",
    "\n",
    "    i = find_element_or_none(driver, \"/html/body/app-root/app-index/div/div[3]/app-car-listing-base/app-index/app-new-used-car-details/div[2]/div[1]/div[5]/app-spec-item/p[1]\")\n",
    "\n",
    "    j = find_element_or_none(driver, \"/html/body/app-root/app-index/div/div[3]/app-car-listing-base/app-index/app-new-used-car-details/div[1]/contact-car-details-sticky-mobile/div/div[1]/div[1]/div\")\n",
    "\n",
    "    # Handle the contact button\n",
    "    k = None\n",
    "    con =None\n",
    "    try:\n",
    "        k = driver.find_element(By.XPATH, \"/html/body/app-root/app-index/div/div[3]/app-car-listing-base/app-index/app-new-used-car-details/div[1]/contact-car-details-sticky-mobile/div/div[3]/a\")\n",
    "        con = k.get_attribute('href')\n",
    "    except NoSuchElementException:\n",
    "        try:\n",
    "            k = driver.find_element(By.XPATH, \"/html/body/app-root/app-index/div/div[3]/app-car-listing-base/app-index/app-new-used-car-details/div[1]/contact-car-details-sticky-mobile/div/div[4]/a\")\n",
    "            con = k.get_attribute('href')\n",
    "        except NoSuchElementException:\n",
    "            print(\"Contact button not found.\")\n",
    "            con = None\n",
    "                \n",
    "    with lock:\n",
    "        New_Cars_For_Sale['Model'].append(a)\n",
    "        New_Cars_For_Sale['Model_1'].append(b)\n",
    "        New_Cars_For_Sale['Model Year'].append(c)\n",
    "        New_Cars_For_Sale['Car Status'].append(d)\n",
    "        New_Cars_For_Sale['Car Price'].append(e)\n",
    "        New_Cars_For_Sale['Body Shape'].append(f)\n",
    "        New_Cars_For_Sale['Transmission'].append(g)\n",
    "        New_Cars_For_Sale['Fuel Type'].append(h)\n",
    "        New_Cars_For_Sale['Engine Capacity'].append(i)\n",
    "        New_Cars_For_Sale['Car About'].append(j)    \n",
    "        New_Cars_For_Sale['Contact'].append(con)"
   ]
  },
  {
   "cell_type": "markdown",
   "id": "b5a7a7c7",
   "metadata": {},
   "source": [
    "Get links to all items on the site"
   ]
  },
  {
   "cell_type": "code",
   "execution_count": 12,
   "id": "922d7b0b",
   "metadata": {},
   "outputs": [],
   "source": [
    "def new_scrap_by_src(src):\n",
    "    driver = webdriver.Chrome()\n",
    "    driver.get(src)\n",
    "    wait = WebDriverWait(driver, 10)  # Increase the wait time here (e.g., 10 seconds)Get links to all items on the site\n",
    "     \n",
    "    # Scroll to the bottom of the page to load all elements\n",
    "    last_height = driver.execute_script(\"return document.body.scrollHeight\")\n",
    "    while True:\n",
    "        driver.execute_script(\"window.scrollTo(0, document.body.scrollHeight);\")\n",
    "        time.sleep(5)\n",
    "        new_height = driver.execute_script(\"return document.body.scrollHeight\")\n",
    "        if new_height == last_height:\n",
    "            break\n",
    "        last_height = new_height \n",
    "\n",
    "    item_links = []\n",
    "    # //*[@class=\"n-engine-card__img\"]\n",
    "    Items_List = wait.until(EC.visibility_of_all_elements_located((By.XPATH, \"//*[contains(concat(' ', normalize-space(@class), ' '), ' d-block ') and contains(concat(' ', normalize-space(@class), ' '), ' bg--white ') and contains(concat(' ', normalize-space(@class), ' '), ' car-link ')]\")))\n",
    "    for item in Items_List:\n",
    "        item_links.append(item.get_attribute('href'))\n",
    "    print(f\"Loading {len(item_links)} items..\")\n",
    "    #############\n",
    "    for i in item_links:\n",
    "        time.sleep(1)\n",
    "        driver.refresh()\n",
    "        retries = 3\n",
    "        for attempt in range(retries):\n",
    "            try:\n",
    "                driver.get(i)   \n",
    "                get_item_info(driver, i)\n",
    "                break\n",
    "            except Exception as e:\n",
    "                time.sleep(1)\n",
    "                print(f\"Failed attempt {attempt+1}/{retries}\")    \n",
    "    \n",
    "    #############\n",
    "    driver.quit()\n"
   ]
  },
  {
   "cell_type": "markdown",
   "id": "5d359126",
   "metadata": {},
   "source": [
    "get a number of site pages"
   ]
  },
  {
   "cell_type": "code",
   "execution_count": 28,
   "id": "4392b2b0",
   "metadata": {},
   "outputs": [],
   "source": [
    "def get_number_of_pages(url, xpath):\n",
    "    driver = webdriver.Chrome()\n",
    "    driver.get(url)\n",
    "\n",
    "    # Scroll to the bottom of the page to load all elements\n",
    "    last_height = driver.execute_script(\"return document.body.scrollHeight\")\n",
    "    while True:\n",
    "        driver.execute_script(\"window.scrollTo(0, document.body.scrollHeight);\")\n",
    "        time.sleep(2)\n",
    "        new_height = driver.execute_script(\"return document.body.scrollHeight\")\n",
    "        if new_height == last_height:\n",
    "            break\n",
    "        last_height = new_height \n",
    "\n",
    "    page_bar_element = driver.find_element(By.XPATH,xpath)\n",
    "    num_pages = page_bar_element.text.strip()\n",
    "    driver.quit()\n",
    "\n",
    "    return num_pages"
   ]
  },
  {
   "cell_type": "code",
   "execution_count": 6,
   "id": "2f52be71",
   "metadata": {},
   "outputs": [
    {
     "data": {
      "text/plain": [
       "31"
      ]
     },
     "execution_count": 6,
     "metadata": {},
     "output_type": "execute_result"
    }
   ],
   "source": [
    "url = \"https://www.contactcars.com/en/newcars4sale?page=1&sortOrder=false&sortBy=createdAt\"  # Replace this with the URL of the website you want to scrape\n",
    "xpath = '/html/body/app-root/app-index/div/div[3]/app-car-listing-base/app-index/div[2]/div/div[2]/div[2]/app-new-paginator/div'\n",
    "p = get_number_of_pages(url, xpath)\n",
    "pages = int(re.findall(r'\\d+', p)[-1])\n",
    "pages"
   ]
  },
  {
   "cell_type": "code",
   "execution_count": null,
   "id": "700eacaa",
   "metadata": {},
   "outputs": [],
   "source": [
    "for i in range(1,pages+ 1) :\n",
    "    url = f'https://www.contactcars.com/en/newcars4sale?page={i}&sortOrder=false&sortBy=createdAt'\n",
    "    new_scrap_by_src(url)\n",
    "    print(f\"(new cars) -Page:  {i} Loaded Successfully\")"
   ]
  },
  {
   "cell_type": "code",
   "execution_count": 4,
   "id": "1e147be8",
   "metadata": {
    "scrolled": true
   },
   "outputs": [],
   "source": [
    "def NEW_Cars_Thread(u_p):\n",
    "    pages = u_p\n",
    "    import threading\n",
    "    num_threads = 4\n",
    "    # Define the function for each thread\n",
    "    def scrape_thread(page_range):\n",
    "        for i in page_range:\n",
    "            url = f'https://www.contactcars.com/en/newcars4sale?page={i}&sortOrder=false&sortBy=createdAt'\n",
    "            new_scrap_by_src(url)\n",
    "            print(f\"(new cars) -Page:  {i} Loaded Successfully\")\n",
    "\n",
    "    # Create and start the threads\n",
    "    threads = []\n",
    "    pages_per_thread = pages // num_threads  # Integer division to split pages evenly\n",
    "\n",
    "    for t in range(num_threads):\n",
    "        start_page = t * pages_per_thread + 1\n",
    "        end_page = (t + 1) * pages_per_thread + 1\n",
    "        if t == num_threads - 1:  # Handle remaining pages for the last thread\n",
    "            end_page = pages + 1\n",
    "        page_range = range(start_page, end_page)\n",
    "        thread = threading.Thread(target=scrape_thread, args=(page_range,))\n",
    "        threads.append(thread)\n",
    "        thread.start()\n",
    "\n",
    "    # Wait for all threads to finish\n",
    "    for thread in threads:\n",
    "        thread.join()\n",
    "    print(threads)"
   ]
  },
  {
   "cell_type": "code",
   "execution_count": 5,
   "id": "5d5ae816",
   "metadata": {},
   "outputs": [],
   "source": [
    "#NEW_Cars_Thread(pages)"
   ]
  },
  {
   "cell_type": "code",
   "execution_count": 14,
   "id": "1f67ddb2",
   "metadata": {},
   "outputs": [
    {
     "data": {
      "text/plain": [
       "0"
      ]
     },
     "execution_count": 14,
     "metadata": {},
     "output_type": "execute_result"
    }
   ],
   "source": [
    "import pandas as pd\n",
    "New_Cars = pd.DataFrame(New_Cars_For_Sale)\n",
    "len(New_Cars)"
   ]
  },
  {
   "cell_type": "code",
   "execution_count": null,
   "id": "52dba700",
   "metadata": {},
   "outputs": [],
   "source": [
    "print(len(New_Cars_For_Sale['Model']))\n",
    "print(len(New_Cars_For_Sale['Model_1']))\n",
    "print(len(New_Cars_For_Sale['Model Year']))\n",
    "print(len(New_Cars_For_Sale['Car Status']))\n",
    "print(len(New_Cars_For_Sale['Car Price']))\n",
    "print(len(New_Cars_For_Sale['Body Shape']))\n",
    "print(len(New_Cars_For_Sale['Transmission']))\n",
    "print(len(New_Cars_For_Sale['Fuel Type']))\n",
    "print(len(New_Cars_For_Sale['Engine Capacity']))\n",
    "print(len(New_Cars_For_Sale['Car About']))\n",
    "print(len(New_Cars_For_Sale['Contact']))"
   ]
  },
  {
   "cell_type": "code",
   "execution_count": null,
   "id": "31fcdc9c",
   "metadata": {},
   "outputs": [],
   "source": [
    "New_Cars['Location'] = New_Cars['Car About'].apply(lambda x: x.split('\\n')[-2] if x else '')\n",
    "New_Cars['Publishing Date'] = New_Cars['Car About'].apply(lambda x: x.split('\\n')[-1] if x else '')\n",
    "New_Cars = New_Cars[[col for col in New_Cars.columns if col != 'Car About'] + ['Car About']]"
   ]
  },
  {
   "cell_type": "code",
   "execution_count": 146,
   "id": "1a8b282a",
   "metadata": {},
   "outputs": [
    {
     "data": {
      "text/html": [
       "<div>\n",
       "<style scoped>\n",
       "    .dataframe tbody tr th:only-of-type {\n",
       "        vertical-align: middle;\n",
       "    }\n",
       "\n",
       "    .dataframe tbody tr th {\n",
       "        vertical-align: top;\n",
       "    }\n",
       "\n",
       "    .dataframe thead th {\n",
       "        text-align: right;\n",
       "    }\n",
       "</style>\n",
       "<table border=\"1\" class=\"dataframe\">\n",
       "  <thead>\n",
       "    <tr style=\"text-align: right;\">\n",
       "      <th></th>\n",
       "      <th>Model</th>\n",
       "      <th>Model_1</th>\n",
       "      <th>Model Year</th>\n",
       "      <th>Car Status</th>\n",
       "      <th>Car Price</th>\n",
       "      <th>Body Shape</th>\n",
       "      <th>Transmission</th>\n",
       "      <th>Fuel Type</th>\n",
       "      <th>Engine Capacity</th>\n",
       "      <th>Contact</th>\n",
       "      <th>Location</th>\n",
       "      <th>Publishing Date</th>\n",
       "      <th>Car About</th>\n",
       "    </tr>\n",
       "  </thead>\n",
       "  <tbody>\n",
       "  </tbody>\n",
       "</table>\n",
       "</div>"
      ],
      "text/plain": [
       "Empty DataFrame\n",
       "Columns: [Model, Model_1, Model Year, Car Status, Car Price, Body Shape, Transmission, Fuel Type, Engine Capacity, Contact, Location, Publishing Date, Car About]\n",
       "Index: []"
      ]
     },
     "execution_count": 146,
     "metadata": {},
     "output_type": "execute_result"
    }
   ],
   "source": [
    "New_Cars.head()"
   ]
  },
  {
   "cell_type": "code",
   "execution_count": 21,
   "id": "d07c5fda",
   "metadata": {},
   "outputs": [],
   "source": [
    "from datetime import date\n",
    "current_date = date.today()\n",
    "current_date = str(current_date)\n",
    "#Save DataFrame to CSV file\n",
    "New_Cars.to_excel(f'N{current_date}.xlsx', index=False)"
   ]
  },
  {
   "cell_type": "code",
   "execution_count": null,
   "id": "3ec5e276",
   "metadata": {},
   "outputs": [],
   "source": []
  },
  {
   "cell_type": "code",
   "execution_count": null,
   "id": "d8996dd7",
   "metadata": {},
   "outputs": [],
   "source": []
  },
  {
   "cell_type": "code",
   "execution_count": null,
   "id": "4f51792e",
   "metadata": {},
   "outputs": [],
   "source": []
  },
  {
   "cell_type": "markdown",
   "id": "a5c57ae2",
   "metadata": {},
   "source": [
    "# Used Cars Scraping "
   ]
  },
  {
   "cell_type": "code",
   "execution_count": 36,
   "id": "3cd1e2f3",
   "metadata": {},
   "outputs": [],
   "source": [
    "from selenium.common.exceptions import NoSuchElementException"
   ]
  },
  {
   "cell_type": "code",
   "execution_count": 37,
   "id": "f9e9e2b8",
   "metadata": {},
   "outputs": [],
   "source": [
    "Used_Cars_For_Sale = {'Model':[], 'Model_1': [], 'Model Year': [],'Car Status': [],'Car Price': [],'Lowest price': [],'Average price': [],'Highest price': [],'Body Shape': [],'Transmission': [],'Fuel Type': [],'Engine Capacity': [],\"Car About\":[],'Contact':[], 'Mileage':[]}"
   ]
  },
  {
   "cell_type": "markdown",
   "id": "27e44334",
   "metadata": {},
   "source": [
    "get item Attributes By xpath for each item"
   ]
  },
  {
   "cell_type": "code",
   "execution_count": 38,
   "id": "d14384c5",
   "metadata": {},
   "outputs": [],
   "source": [
    "def find_element_or_none(driver, xpath):\n",
    "    try:\n",
    "        return driver.find_element(By.XPATH, xpath).text\n",
    "    except NoSuchElementException:\n",
    "        return None\n",
    "\n",
    "lock = threading.Lock()\n",
    "\n",
    "def get_Used_item_info(driver, url):\n",
    "    # Scroll to the bottom of the page to load all elements\n",
    "    last_height = driver.execute_script(\"return document.body.scrollHeight\")\n",
    "    while True:\n",
    "        driver.execute_script(\"window.scrollTo(0, document.body.scrollHeight);\")\n",
    "        time.sleep(2)\n",
    "        new_height = driver.execute_script(\"return document.body.scrollHeight\")\n",
    "        if new_height == last_height:\n",
    "            break\n",
    "        last_height = new_height \n",
    "    \n",
    "    # All info\n",
    "    a = find_element_or_none(driver, \"/html/body/app-root/app-index/div/div[3]/app-car-listing-base/app-index/app-new-used-car-details/div[1]/contact-car-details-sticky-mobile/div/div[1]/div[1]/div/h1/span[1]\")\n",
    "\n",
    "    b = find_element_or_none(driver, \"/html/body/app-root/app-index/div/div[3]/app-car-listing-base/app-index/app-new-used-car-details/div[1]/contact-car-details-sticky-mobile/div/div[1]/div[1]/div/h1/span[2]\")\n",
    "\n",
    "    c = find_element_or_none(driver, \"/html/body/app-root/app-index/div/div[3]/app-car-listing-base/app-index/app-new-used-car-details/div[1]/contact-car-details-sticky-mobile/div/div[1]/div[1]/div/h1/span[3]\")\n",
    "\n",
    "    d = find_element_or_none(driver, \"/html/body/app-root/app-index/div/div[3]/app-car-listing-base/app-index/app-new-used-car-details/div[1]/contact-car-details-sticky-mobile/div/div[1]/div[1]/div/h1/span[4]\")\n",
    "\n",
    "    e = find_element_or_none(driver, \"/html/body/app-root/app-index/div/div[3]/app-car-listing-base/app-index/app-new-used-car-details/div[1]/contact-car-details-sticky-mobile/div/div[1]/div[2]\")\n",
    "\n",
    "    time.sleep(3)\n",
    "\n",
    "    e1 = find_element_or_none(driver, \"/html/body/app-root/app-index/div/div[3]/app-car-listing-base/app-index/app-new-used-car-details/div[2]/div[3]/app-car-price-chart/div[2]/div[3]/p[2]\")\n",
    "\n",
    "    e2 = find_element_or_none(driver, \"/html/body/app-root/app-index/div/div[3]/app-car-listing-base/app-index/app-new-used-car-details/div[2]/div[3]/app-car-price-chart/div[2]/div[2]/p[2]\")\n",
    "\n",
    "    e3 = find_element_or_none(driver, \"/html/body/app-root/app-index/div/div[3]/app-car-listing-base/app-index/app-new-used-car-details/div[2]/div[3]/app-car-price-chart/div[2]/div[1]/p[2]\")\n",
    "\n",
    "    f = find_element_or_none(driver, \"/html/body/app-root/app-index/div/div[3]/app-car-listing-base/app-index/app-new-used-car-details/div[2]/div[1]/div[1]/app-spec-item/p[1]\")\n",
    "\n",
    "    g = find_element_or_none(driver, \"/html/body/app-root/app-index/div/div[3]/app-car-listing-base/app-index/app-new-used-car-details/div[2]/div[1]/div[2]/app-spec-item/p[1]\")\n",
    "\n",
    "    h = find_element_or_none(driver, \"/html/body/app-root/app-index/div/div[3]/app-car-listing-base/app-index/app-new-used-car-details/div[2]/div[1]/div[4]/app-spec-item/p[1]\")\n",
    "\n",
    "    i = find_element_or_none(driver, \"/html/body/app-root/app-index/div/div[3]/app-car-listing-base/app-index/app-new-used-car-details/div[2]/div[1]/div[5]/app-spec-item/p[1]\")\n",
    "\n",
    "    j = find_element_or_none(driver, \"/html/body/app-root/app-index/div/div[3]/app-car-listing-base/app-index/app-new-used-car-details/div[1]/contact-car-details-sticky-mobile/div/div[1]/div[1]/div\")\n",
    "\n",
    "    t = find_element_or_none(driver, \"/html/body/app-root/app-index/div/div[3]/app-car-listing-base/app-index/app-new-used-car-details/div[2]/div[1]/div[3]/app-spec-item/p[1]\")\n",
    "    \n",
    "    from selenium.common.exceptions import NoSuchElementException\n",
    "    k = None\n",
    "    con = None\n",
    "    try:\n",
    "        k = driver.find_element(By.XPATH, \"/html/body/app-root/app-index/div/div[3]/app-car-listing-base/app-index/app-new-used-car-details/div[1]/contact-car-details-sticky-mobile/div/div[4]/a\")\n",
    "        con = k.get_attribute('href')\n",
    "    except NoSuchElementException:\n",
    "        try:\n",
    "            k = driver.find_element(By.XPATH, \"/html/body/app-root/app-index/div/div[3]/app-car-listing-base/app-index/app-new-used-car-details/div[1]/contact-car-details-sticky-mobile/div/div[3]/a\")\n",
    "            con = k.get_attribute('href')\n",
    "\n",
    "        except NoSuchElementException:\n",
    "            print(\"Contact button not found.\")\n",
    "            con = None\n",
    "\n",
    "    with lock:\n",
    "        Used_Cars_For_Sale['Model'].append(a)\n",
    "        Used_Cars_For_Sale['Model_1'].append(b)  \n",
    "        Used_Cars_For_Sale['Model Year'].append(c)\n",
    "        Used_Cars_For_Sale['Car Status'].append(d)\n",
    "        Used_Cars_For_Sale['Car Price'].append(e)\n",
    "        Used_Cars_For_Sale['Lowest price'].append(e1)\n",
    "        Used_Cars_For_Sale['Average price'].append(e2)\n",
    "        Used_Cars_For_Sale['Highest price'].append(e3)\n",
    "        Used_Cars_For_Sale['Body Shape'].append(f)\n",
    "        Used_Cars_For_Sale['Transmission'].append(g)\n",
    "        Used_Cars_For_Sale['Fuel Type'].append(h)\n",
    "        Used_Cars_For_Sale['Engine Capacity'].append(i)\n",
    "        Used_Cars_For_Sale['Car About'].append(j)\n",
    "        Used_Cars_For_Sale['Mileage'].append(t)    \n",
    "        Used_Cars_For_Sale['Contact'].append(con)"
   ]
  },
  {
   "cell_type": "markdown",
   "id": "68828707",
   "metadata": {},
   "source": [
    "Get links to all used items on the site"
   ]
  },
  {
   "cell_type": "code",
   "execution_count": 39,
   "id": "748614b5",
   "metadata": {},
   "outputs": [],
   "source": [
    "def Used(src):\n",
    "    driver = webdriver.Chrome()\n",
    "    driver.get(src)\n",
    "    wait = WebDriverWait(driver, 10)  # Increase the wait time here (e.g., 10 seconds)\n",
    "    time.sleep(2)  # Let the page load for a few seconds\n",
    "    \n",
    "    # Scroll to the bottom of the page to load all elements\n",
    "    last_height = driver.execute_script(\"return document.body.scrollHeight\")\n",
    "    while True:\n",
    "        driver.execute_script(\"window.scrollTo(0, document.body.scrollHeight);\")\n",
    "        time.sleep(2)\n",
    "        new_height = driver.execute_script(\"return document.body.scrollHeight\")\n",
    "        if new_height == last_height:\n",
    "            break\n",
    "        last_height = new_height \n",
    "    used_item_links = []\n",
    "    \n",
    "    # //*[@class=\"n-engine-card__img\"]\n",
    "    Items_List = wait.until(EC.visibility_of_all_elements_located((By.XPATH, \"//*[contains(concat(' ', normalize-space(@class), ' '), ' d-block ') and contains(concat(' ', normalize-space(@class), ' '), ' bg--white ') and contains(concat(' ', normalize-space(@class), ' '), ' car-link ')]\")))\n",
    "    for item in Items_List:\n",
    "        used_item_links.append(item.get_attribute('href'))\n",
    "        \n",
    "    print(f\"Loading {len(used_item_links)} items..\")\n",
    "    \n",
    "    ############\n",
    "    for i in used_item_links:\n",
    "        time.sleep(1)\n",
    "        driver.refresh()\n",
    "        retries = 2   \n",
    "        for attempt in range(retries):\n",
    "            try:\n",
    "                driver.get(i)   \n",
    "                get_Used_item_info(driver, i)\n",
    "                break  #  \n",
    "            except Exception as e:\n",
    "                time.sleep(1)\n",
    "                print(f\"Failed attempt {attempt+1}/{retries}\")\n",
    "                \n",
    "    #############\n",
    "    driver.quit()"
   ]
  },
  {
   "cell_type": "markdown",
   "id": "3c76afa1",
   "metadata": {},
   "source": [
    "get number of pages used items "
   ]
  },
  {
   "cell_type": "code",
   "execution_count": 29,
   "id": "e7b2741c",
   "metadata": {},
   "outputs": [
    {
     "data": {
      "text/plain": [
       "186"
      ]
     },
     "execution_count": 29,
     "metadata": {},
     "output_type": "execute_result"
    }
   ],
   "source": [
    "url = \"https://www.contactcars.com/en/usedcars?page=1&sortOrder=false&sortBy=createdAt\"  \n",
    "xpath = '/html/body/app-root/app-index/div/div[3]/app-car-listing-base/app-index/div[2]/div/div[2]/div[2]/app-new-paginator/div'\n",
    "p = get_number_of_pages(url, xpath)\n",
    "used_pages = int(re.findall(r'\\d+', p)[-1])\n",
    "used_pages"
   ]
  },
  {
   "cell_type": "code",
   "execution_count": null,
   "id": "8bf7bb44",
   "metadata": {},
   "outputs": [],
   "source": [
    "for i in range(1,used_pages+1):\n",
    "    url = f'https://www.contactcars.com/en/usedcars?page={i}&sortOrder=false&sortBy=createdAt'\n",
    "    Used(url)\n",
    "    print(f\"(used cars) -Page:  {i} Loaded Successfully\")"
   ]
  },
  {
   "cell_type": "code",
   "execution_count": 6,
   "id": "1e812261",
   "metadata": {},
   "outputs": [],
   "source": [
    "def USED_Cars_Thread(u_p):\n",
    "    pages = u_p\n",
    "    import threading\n",
    "    num_threads = 4\n",
    "    # Define the function for each thread\n",
    "    def scrape_thread(page_range):\n",
    "        for i in page_range:\n",
    "            url = f'https://www.contactcars.com/en/usedcars?page={i}&sortOrder=false&sortBy=createdAt'\n",
    "            Used(url)\n",
    "            print(f\"(used cars) -Page:  {i} Loaded Successfully\")\n",
    "\n",
    "    # Create and start the threads\n",
    "    threads = []\n",
    "    pages_per_thread = pages // num_threads  # Integer division to split pages evenly\n",
    "\n",
    "    for t in range(num_threads):\n",
    "        start_page = t * pages_per_thread + 1\n",
    "        end_page = (t + 1) * pages_per_thread + 1\n",
    "        if t == num_threads - 1:  # Handle remaining pages for the last thread\n",
    "            end_page = pages + 1\n",
    "        page_range = range(start_page, end_page)\n",
    "        thread = threading.Thread(target=scrape_thread, args=(page_range,))\n",
    "        threads.append(thread)\n",
    "        thread.start()\n",
    "\n",
    "    # Wait for all threads to finish\n",
    "    for thread in threads:\n",
    "        thread.join()\n",
    "    print(threads)"
   ]
  },
  {
   "cell_type": "code",
   "execution_count": null,
   "id": "92b03c4d",
   "metadata": {},
   "outputs": [],
   "source": [
    "#USED_Cars_Thread(used_pages)"
   ]
  },
  {
   "cell_type": "code",
   "execution_count": 136,
   "id": "3596ec08",
   "metadata": {},
   "outputs": [],
   "source": [
    "import pandas as pd\n",
    "Used_Cars = pd.DataFrame(Used_Cars_For_Sale)"
   ]
  },
  {
   "cell_type": "code",
   "execution_count": 137,
   "id": "1df84988",
   "metadata": {},
   "outputs": [],
   "source": [
    "Used_Cars['Location'] = Used_Cars['Car About'].apply(lambda x: x.split('\\n')[-2] if x else '')\n",
    "Used_Cars['Publishing Date'] = Used_Cars['Car About'].apply(lambda x: x.split('\\n')[-1] if x else '')\n",
    "Used_Cars = Used_Cars[[col for col in Used_Cars.columns if col != 'Car About'] + ['Car About']]"
   ]
  },
  {
   "cell_type": "code",
   "execution_count": 138,
   "id": "bd126b9c",
   "metadata": {},
   "outputs": [
    {
     "data": {
      "text/html": [
       "<div>\n",
       "<style scoped>\n",
       "    .dataframe tbody tr th:only-of-type {\n",
       "        vertical-align: middle;\n",
       "    }\n",
       "\n",
       "    .dataframe tbody tr th {\n",
       "        vertical-align: top;\n",
       "    }\n",
       "\n",
       "    .dataframe thead th {\n",
       "        text-align: right;\n",
       "    }\n",
       "</style>\n",
       "<table border=\"1\" class=\"dataframe\">\n",
       "  <thead>\n",
       "    <tr style=\"text-align: right;\">\n",
       "      <th></th>\n",
       "      <th>Model</th>\n",
       "      <th>Model_1</th>\n",
       "      <th>Model Year</th>\n",
       "      <th>Car Status</th>\n",
       "      <th>Car Price</th>\n",
       "      <th>Lowest price</th>\n",
       "      <th>Average price</th>\n",
       "      <th>Highest price</th>\n",
       "      <th>Body Shape</th>\n",
       "      <th>Transmission</th>\n",
       "      <th>Fuel Type</th>\n",
       "      <th>Engine Capacity</th>\n",
       "      <th>Contact</th>\n",
       "      <th>Mileage</th>\n",
       "      <th>Location</th>\n",
       "      <th>Publishing Date</th>\n",
       "      <th>Car About</th>\n",
       "    </tr>\n",
       "  </thead>\n",
       "  <tbody>\n",
       "    <tr>\n",
       "      <th>0</th>\n",
       "      <td>Hyundai</td>\n",
       "      <td>Accent RB</td>\n",
       "      <td>2015</td>\n",
       "      <td>Used</td>\n",
       "      <td>450,000 EGP</td>\n",
       "      <td>339,365 EGP</td>\n",
       "      <td>452,583 EGP</td>\n",
       "      <td>565,800 EGP</td>\n",
       "      <td>Sedan</td>\n",
       "      <td>Automatic</td>\n",
       "      <td>Gas</td>\n",
       "      <td>1600 CC</td>\n",
       "      <td>tel:+201003609367</td>\n",
       "      <td>260,000 KM</td>\n",
       "      <td>Alexandria</td>\n",
       "      <td>5 days ago</td>\n",
       "      <td>Hyundai\\nAccent RB\\n2015\\nUsed\\nSmouha\\n,\\nAle...</td>\n",
       "    </tr>\n",
       "    <tr>\n",
       "      <th>1</th>\n",
       "      <td>Chery</td>\n",
       "      <td>Tiggo</td>\n",
       "      <td>2017</td>\n",
       "      <td>Used</td>\n",
       "      <td>400,000 EGP</td>\n",
       "      <td>299,115 EGP</td>\n",
       "      <td>398,878 EGP</td>\n",
       "      <td>498,640 EGP</td>\n",
       "      <td>SUV</td>\n",
       "      <td>Automatic</td>\n",
       "      <td>Gas</td>\n",
       "      <td>1600 CC</td>\n",
       "      <td>tel:+201276200018</td>\n",
       "      <td>140,000 KM</td>\n",
       "      <td>Cairo</td>\n",
       "      <td>2 days ago</td>\n",
       "      <td>Chery\\nTiggo\\n2017\\nUsed\\nManial\\n,\\nCairo\\n2 ...</td>\n",
       "    </tr>\n",
       "    <tr>\n",
       "      <th>2</th>\n",
       "      <td>Fiat</td>\n",
       "      <td>Tipo</td>\n",
       "      <td>2021</td>\n",
       "      <td>Used</td>\n",
       "      <td>750,000 EGP</td>\n",
       "      <td>524,160 EGP</td>\n",
       "      <td>699,010 EGP</td>\n",
       "      <td>873,860 EGP</td>\n",
       "      <td>Sedan</td>\n",
       "      <td>Automatic</td>\n",
       "      <td>Gas</td>\n",
       "      <td>1600 CC</td>\n",
       "      <td>tel:+201004421991</td>\n",
       "      <td>95,000 KM</td>\n",
       "      <td>Cairo</td>\n",
       "      <td>2 days ago</td>\n",
       "      <td>Fiat\\nTipo\\n2021\\nUsed\\n1.6 A/T H/L Sedan\\nMok...</td>\n",
       "    </tr>\n",
       "    <tr>\n",
       "      <th>3</th>\n",
       "      <td>Kia</td>\n",
       "      <td>Sportage</td>\n",
       "      <td>2022</td>\n",
       "      <td>Used</td>\n",
       "      <td>1,500,000 EGP</td>\n",
       "      <td>1,023,880 EGP</td>\n",
       "      <td>1,365,210 EGP</td>\n",
       "      <td>1,706,540 EGP</td>\n",
       "      <td>SUV</td>\n",
       "      <td>Automatic</td>\n",
       "      <td>Gas</td>\n",
       "      <td>1600 CC</td>\n",
       "      <td>tel:+201000051283</td>\n",
       "      <td>24,000 KM</td>\n",
       "      <td>Giza</td>\n",
       "      <td>2 days ago</td>\n",
       "      <td>Kia\\nSportage\\n2022\\nUsed\\n1.6 A/T HL Plus\\nEl...</td>\n",
       "    </tr>\n",
       "    <tr>\n",
       "      <th>4</th>\n",
       "      <td>Toyota</td>\n",
       "      <td>Corolla</td>\n",
       "      <td>2021</td>\n",
       "      <td>Used</td>\n",
       "      <td>950,000 EGP</td>\n",
       "      <td>720,170 EGP</td>\n",
       "      <td>960,300 EGP</td>\n",
       "      <td>1,200,430 EGP</td>\n",
       "      <td>Sedan</td>\n",
       "      <td>Automatic</td>\n",
       "      <td>Gas</td>\n",
       "      <td>1600 CC</td>\n",
       "      <td>tel:+201115078837</td>\n",
       "      <td>26,000 KM</td>\n",
       "      <td>Cairo</td>\n",
       "      <td>6 days ago</td>\n",
       "      <td>Toyota\\nCorolla\\n2021\\nUsed\\n1.6 A/T Active Pl...</td>\n",
       "    </tr>\n",
       "  </tbody>\n",
       "</table>\n",
       "</div>"
      ],
      "text/plain": [
       "     Model    Model_1 Model Year Car Status      Car Price   Lowest price  \\\n",
       "0  Hyundai  Accent RB       2015       Used    450,000 EGP    339,365 EGP   \n",
       "1    Chery      Tiggo       2017       Used    400,000 EGP    299,115 EGP   \n",
       "2     Fiat       Tipo       2021       Used    750,000 EGP    524,160 EGP   \n",
       "3      Kia   Sportage       2022       Used  1,500,000 EGP  1,023,880 EGP   \n",
       "4   Toyota    Corolla       2021       Used    950,000 EGP    720,170 EGP   \n",
       "\n",
       "   Average price  Highest price Body Shape Transmission Fuel Type  \\\n",
       "0    452,583 EGP    565,800 EGP      Sedan    Automatic       Gas   \n",
       "1    398,878 EGP    498,640 EGP        SUV    Automatic       Gas   \n",
       "2    699,010 EGP    873,860 EGP      Sedan    Automatic       Gas   \n",
       "3  1,365,210 EGP  1,706,540 EGP        SUV    Automatic       Gas   \n",
       "4    960,300 EGP  1,200,430 EGP      Sedan    Automatic       Gas   \n",
       "\n",
       "  Engine Capacity            Contact     Mileage    Location Publishing Date  \\\n",
       "0         1600 CC  tel:+201003609367  260,000 KM  Alexandria      5 days ago   \n",
       "1         1600 CC  tel:+201276200018  140,000 KM       Cairo      2 days ago   \n",
       "2         1600 CC  tel:+201004421991   95,000 KM       Cairo      2 days ago   \n",
       "3         1600 CC  tel:+201000051283   24,000 KM        Giza      2 days ago   \n",
       "4         1600 CC  tel:+201115078837   26,000 KM       Cairo      6 days ago   \n",
       "\n",
       "                                           Car About  \n",
       "0  Hyundai\\nAccent RB\\n2015\\nUsed\\nSmouha\\n,\\nAle...  \n",
       "1  Chery\\nTiggo\\n2017\\nUsed\\nManial\\n,\\nCairo\\n2 ...  \n",
       "2  Fiat\\nTipo\\n2021\\nUsed\\n1.6 A/T H/L Sedan\\nMok...  \n",
       "3  Kia\\nSportage\\n2022\\nUsed\\n1.6 A/T HL Plus\\nEl...  \n",
       "4  Toyota\\nCorolla\\n2021\\nUsed\\n1.6 A/T Active Pl...  "
      ]
     },
     "execution_count": 138,
     "metadata": {},
     "output_type": "execute_result"
    }
   ],
   "source": [
    "Used_Cars.head()"
   ]
  },
  {
   "cell_type": "code",
   "execution_count": null,
   "id": "5e618c33",
   "metadata": {},
   "outputs": [],
   "source": []
  }
 ],
 "metadata": {
  "kernelspec": {
   "display_name": "Python 3 (ipykernel)",
   "language": "python",
   "name": "python3"
  },
  "language_info": {
   "codemirror_mode": {
    "name": "ipython",
    "version": 3
   },
   "file_extension": ".py",
   "mimetype": "text/x-python",
   "name": "python",
   "nbconvert_exporter": "python",
   "pygments_lexer": "ipython3",
   "version": "3.9.7"
  }
 },
 "nbformat": 4,
 "nbformat_minor": 5
}
