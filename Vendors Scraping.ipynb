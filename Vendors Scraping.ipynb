{
 "cells": [
  {
   "cell_type": "markdown",
   "id": "924451ec",
   "metadata": {},
   "source": [
    "# Retail Stores"
   ]
  },
  {
   "cell_type": "code",
   "execution_count": 1,
   "id": "8a7cbce3",
   "metadata": {},
   "outputs": [],
   "source": [
    "import time\n",
    "from selenium import webdriver\n",
    "from selenium.webdriver.common.by import By\n",
    "from selenium.webdriver.support.ui import WebDriverWait\n",
    "from selenium.webdriver.support import expected_conditions as EC\n",
    "from selenium.webdriver.common.action_chains import ActionChains\n",
    "from selenium.common.exceptions import NoSuchElementException\n",
    "import pandas as pd\n",
    "import numpy as np"
   ]
  },
  {
   "cell_type": "code",
   "execution_count": 2,
   "id": "cc6a6ea1",
   "metadata": {},
   "outputs": [],
   "source": [
    "Vendors = {'Name':[], 'Logo':[],'Header':[], 'Categories':[],'Locations':[], 'Latest Offers':[]}"
   ]
  },
  {
   "cell_type": "code",
   "execution_count": 3,
   "id": "2b2962a7",
   "metadata": {},
   "outputs": [],
   "source": [
    "from selenium.common.exceptions import NoSuchElementException\n",
    "\n",
    "def find_element_or_none(driver, xpath):\n",
    "    try:\n",
    "        return driver.find_element(By.XPATH, xpath).text\n",
    "    except NoSuchElementException:\n",
    "        return None\n",
    "\n",
    "def get_item(driver, url):\n",
    "    \n",
    "    # Scroll to the bottom of the page to load all elements\n",
    "    last_height = driver.execute_script(\"return document.body.scrollHeight\")\n",
    "    while True:\n",
    "        driver.execute_script(\"window.scrollTo(0, document.body.scrollHeight);\")\n",
    "        time.sleep(1)\n",
    "        new_height = driver.execute_script(\"return document.body.scrollHeight\")\n",
    "        if new_height == last_height:\n",
    "            break\n",
    "        last_height = new_height \n",
    "    \n",
    "    # All info\n",
    "    a = find_element_or_none(driver, '//*[@id=\"app\"]/div/div/main/div/div[1]/div[1]/div/h3')\n",
    "    Vendors['Name'].append(a)\n",
    "    \n",
    "    b = find_element_or_none(driver, '//*[@id=\"app\"]/div/div/main/div/div[1]/div[1]/div/img')\n",
    "    b1 = b.get_attribute('src')\n",
    "    Vendors['Logo'].append(b1)\n",
    "\n",
    "    c = find_element_or_none(driver, '//*[@id=\"app\"]/div/div/main/div/div[1]/div[1]/div/p')\n",
    "    Vendors['Header'].append(c)\n",
    "    \n",
    "    d = find_element_or_none(driver, '//*[@id=\"app\"]/div/div/main/div/div[1]/div[1]/div/div[1]')\n",
    "    Vendors['Categories'].append(d)\n",
    "    \n",
    "    e = find_element_or_none(driver, '//*[@id=\"app\"]/div/div/main/div/div[1]/div[1]/div/div[2]/div/div[2]/div')\n",
    "    Vendors['Locations'].append(e)\n",
    "    \n",
    "    f = find_element_or_none(driver, '//*[@id=\"app\"]/div/div/main/div/div[1]/div[2]/div/div/div/div')\n",
    "    Vendors['Latest Offers'].append(f)"
   ]
  },
  {
   "cell_type": "code",
   "execution_count": 22,
   "id": "4e5a4afb",
   "metadata": {},
   "outputs": [],
   "source": [
    "def scrap(src):\n",
    "\n",
    "    driver = webdriver.Chrome()\n",
    "    driver.get(src)\n",
    "    wait = WebDriverWait(driver, 10) \n",
    "    time.sleep(3) \n",
    "     \n",
    "    # Scroll to the bottom of the page to load all elements\n",
    "    last_height = driver.execute_script(\"return document.body.scrollHeight\")\n",
    "    while True:\n",
    "        \n",
    "        ########### XPATH FOR THE BUTTON ?\n",
    "        driver.execute_script(\"window.scrollTo(0, document.body.scrollHeight);\")\n",
    "        time.sleep(5)\n",
    "        new_height = driver.execute_script(\"return document.body.scrollHeight\")\n",
    "        if new_height == last_height:\n",
    "            k = driver.find_element(By.XPATH, '//*[@id=\"#id\"]/div/div[2]/div[2]/div/div[16]/button')\n",
    "            k.click()\n",
    "            if not k:\n",
    "                break\n",
    "        last_height = new_height \n",
    "        \n",
    "        \n",
    "        \n",
    "\n",
    "        \n",
    "    item_links = []\n",
    "    Items_List = wait.until(EC.visibility_of_all_elements_located((By.XPATH, \"//*[contains(concat(' ', normalize-space(@class), ' '), ' d-block ') and contains(concat(' ', normalize-space(@class), ' '), ' bg--white ') and contains(concat(' ', normalize-space(@class), ' '), ' car-link ')]\")))\n",
    "    \n",
    "    for item in Items_List:\n",
    "        item_links.append(item.get_attribute('href'))\n",
    "    print(len(item_links))\n",
    "\n",
    "    for i in item_links:\n",
    "        time.sleep(5)\n",
    "        driver.get(i)  \n",
    "        get_item_info(driver, i)\n",
    "        \n",
    "    driver.quit()"
   ]
  },
  {
   "cell_type": "code",
   "execution_count": 23,
   "id": "725fcf62",
   "metadata": {},
   "outputs": [
    {
     "name": "stdout",
     "output_type": "stream",
     "text": [
      "Trying to visit: https://www.valu.com.eg/Merchants\n"
     ]
    },
    {
     "ename": "NoSuchElementException",
     "evalue": "Message: no such element: Unable to locate element: {\"method\":\"xpath\",\"selector\":\"//*[@id=\"#id\"]/div/div[2]/div[2]/div/div[16]/button\"}\n  (Session info: chrome=114.0.5735.248); For documentation on this error, please visit: https://www.selenium.dev/documentation/webdriver/troubleshooting/errors#no-such-element-exception\nStacktrace:\nBacktrace:\n\tGetHandleVerifier [0x0077A813+48355]\n\t(No symbol) [0x0070C4B1]\n\t(No symbol) [0x00615358]\n\t(No symbol) [0x006409A5]\n\t(No symbol) [0x00640B3B]\n\t(No symbol) [0x0066E232]\n\t(No symbol) [0x0065A784]\n\t(No symbol) [0x0066C922]\n\t(No symbol) [0x0065A536]\n\t(No symbol) [0x006382DC]\n\t(No symbol) [0x006393DD]\n\tGetHandleVerifier [0x009DAABD+2539405]\n\tGetHandleVerifier [0x00A1A78F+2800735]\n\tGetHandleVerifier [0x00A1456C+2775612]\n\tGetHandleVerifier [0x008051E0+616112]\n\t(No symbol) [0x00715F8C]\n\t(No symbol) [0x00712328]\n\t(No symbol) [0x0071240B]\n\t(No symbol) [0x00704FF7]\n\tBaseThreadInitThunk [0x765700C9+25]\n\tRtlGetAppContainerNamedObjectPath [0x77767B1E+286]\n\tRtlGetAppContainerNamedObjectPath [0x77767AEE+238]\n",
     "output_type": "error",
     "traceback": [
      "\u001b[1;31m---------------------------------------------------------------------------\u001b[0m",
      "\u001b[1;31mNoSuchElementException\u001b[0m                    Traceback (most recent call last)",
      "\u001b[1;32mC:\\Users\\MARAWA~1\\AppData\\Local\\Temp/ipykernel_27544/593187108.py\u001b[0m in \u001b[0;36m<module>\u001b[1;34m\u001b[0m\n\u001b[0;32m      1\u001b[0m \u001b[0murl\u001b[0m \u001b[1;33m=\u001b[0m \u001b[1;34mf'https://www.valu.com.eg/Merchants'\u001b[0m\u001b[1;33m\u001b[0m\u001b[1;33m\u001b[0m\u001b[0m\n\u001b[0;32m      2\u001b[0m \u001b[0mprint\u001b[0m\u001b[1;33m(\u001b[0m\u001b[1;34mf\"Trying to visit: {url}\"\u001b[0m\u001b[1;33m)\u001b[0m\u001b[1;33m\u001b[0m\u001b[1;33m\u001b[0m\u001b[0m\n\u001b[1;32m----> 3\u001b[1;33m \u001b[0mscrap\u001b[0m\u001b[1;33m(\u001b[0m\u001b[0murl\u001b[0m\u001b[1;33m)\u001b[0m\u001b[1;33m\u001b[0m\u001b[1;33m\u001b[0m\u001b[0m\n\u001b[0m\u001b[0;32m      4\u001b[0m \u001b[0mprint\u001b[0m\u001b[1;33m(\u001b[0m\u001b[1;34mf\"(used cars) - Page: {i} Loaded Successfully\"\u001b[0m\u001b[1;33m)\u001b[0m\u001b[1;33m\u001b[0m\u001b[1;33m\u001b[0m\u001b[0m\n",
      "\u001b[1;32mC:\\Users\\MARAWA~1\\AppData\\Local\\Temp/ipykernel_27544/4288484387.py\u001b[0m in \u001b[0;36mscrap\u001b[1;34m(src)\u001b[0m\n\u001b[0;32m     15\u001b[0m         \u001b[0mnew_height\u001b[0m \u001b[1;33m=\u001b[0m \u001b[0mdriver\u001b[0m\u001b[1;33m.\u001b[0m\u001b[0mexecute_script\u001b[0m\u001b[1;33m(\u001b[0m\u001b[1;34m\"return document.body.scrollHeight\"\u001b[0m\u001b[1;33m)\u001b[0m\u001b[1;33m\u001b[0m\u001b[1;33m\u001b[0m\u001b[0m\n\u001b[0;32m     16\u001b[0m         \u001b[1;32mif\u001b[0m \u001b[0mnew_height\u001b[0m \u001b[1;33m==\u001b[0m \u001b[0mlast_height\u001b[0m\u001b[1;33m:\u001b[0m\u001b[1;33m\u001b[0m\u001b[1;33m\u001b[0m\u001b[0m\n\u001b[1;32m---> 17\u001b[1;33m             \u001b[0mk\u001b[0m \u001b[1;33m=\u001b[0m \u001b[0mdriver\u001b[0m\u001b[1;33m.\u001b[0m\u001b[0mfind_element\u001b[0m\u001b[1;33m(\u001b[0m\u001b[0mBy\u001b[0m\u001b[1;33m.\u001b[0m\u001b[0mXPATH\u001b[0m\u001b[1;33m,\u001b[0m \u001b[1;34m'//*[@id=\"#id\"]/div/div[2]/div[2]/div/div[16]/button'\u001b[0m\u001b[1;33m)\u001b[0m\u001b[1;33m\u001b[0m\u001b[1;33m\u001b[0m\u001b[0m\n\u001b[0m\u001b[0;32m     18\u001b[0m             \u001b[0mk\u001b[0m\u001b[1;33m.\u001b[0m\u001b[0mclick\u001b[0m\u001b[1;33m(\u001b[0m\u001b[1;33m)\u001b[0m\u001b[1;33m\u001b[0m\u001b[1;33m\u001b[0m\u001b[0m\n\u001b[0;32m     19\u001b[0m             \u001b[1;32mif\u001b[0m \u001b[1;32mnot\u001b[0m \u001b[0mk\u001b[0m\u001b[1;33m:\u001b[0m\u001b[1;33m\u001b[0m\u001b[1;33m\u001b[0m\u001b[0m\n",
      "\u001b[1;32mC:\\ProgramData\\Anaconda3\\lib\\site-packages\\selenium\\webdriver\\remote\\webdriver.py\u001b[0m in \u001b[0;36mfind_element\u001b[1;34m(self, by, value)\u001b[0m\n\u001b[0;32m    738\u001b[0m             \u001b[0mvalue\u001b[0m \u001b[1;33m=\u001b[0m \u001b[1;34mf'[name=\"{value}\"]'\u001b[0m\u001b[1;33m\u001b[0m\u001b[1;33m\u001b[0m\u001b[0m\n\u001b[0;32m    739\u001b[0m \u001b[1;33m\u001b[0m\u001b[0m\n\u001b[1;32m--> 740\u001b[1;33m         \u001b[1;32mreturn\u001b[0m \u001b[0mself\u001b[0m\u001b[1;33m.\u001b[0m\u001b[0mexecute\u001b[0m\u001b[1;33m(\u001b[0m\u001b[0mCommand\u001b[0m\u001b[1;33m.\u001b[0m\u001b[0mFIND_ELEMENT\u001b[0m\u001b[1;33m,\u001b[0m \u001b[1;33m{\u001b[0m\u001b[1;34m\"using\"\u001b[0m\u001b[1;33m:\u001b[0m \u001b[0mby\u001b[0m\u001b[1;33m,\u001b[0m \u001b[1;34m\"value\"\u001b[0m\u001b[1;33m:\u001b[0m \u001b[0mvalue\u001b[0m\u001b[1;33m}\u001b[0m\u001b[1;33m)\u001b[0m\u001b[1;33m[\u001b[0m\u001b[1;34m\"value\"\u001b[0m\u001b[1;33m]\u001b[0m\u001b[1;33m\u001b[0m\u001b[1;33m\u001b[0m\u001b[0m\n\u001b[0m\u001b[0;32m    741\u001b[0m \u001b[1;33m\u001b[0m\u001b[0m\n\u001b[0;32m    742\u001b[0m     \u001b[1;32mdef\u001b[0m \u001b[0mfind_elements\u001b[0m\u001b[1;33m(\u001b[0m\u001b[0mself\u001b[0m\u001b[1;33m,\u001b[0m \u001b[0mby\u001b[0m\u001b[1;33m=\u001b[0m\u001b[0mBy\u001b[0m\u001b[1;33m.\u001b[0m\u001b[0mID\u001b[0m\u001b[1;33m,\u001b[0m \u001b[0mvalue\u001b[0m\u001b[1;33m:\u001b[0m \u001b[0mOptional\u001b[0m\u001b[1;33m[\u001b[0m\u001b[0mstr\u001b[0m\u001b[1;33m]\u001b[0m \u001b[1;33m=\u001b[0m \u001b[1;32mNone\u001b[0m\u001b[1;33m)\u001b[0m \u001b[1;33m->\u001b[0m \u001b[0mList\u001b[0m\u001b[1;33m[\u001b[0m\u001b[0mWebElement\u001b[0m\u001b[1;33m]\u001b[0m\u001b[1;33m:\u001b[0m\u001b[1;33m\u001b[0m\u001b[1;33m\u001b[0m\u001b[0m\n",
      "\u001b[1;32mC:\\ProgramData\\Anaconda3\\lib\\site-packages\\selenium\\webdriver\\remote\\webdriver.py\u001b[0m in \u001b[0;36mexecute\u001b[1;34m(self, driver_command, params)\u001b[0m\n\u001b[0;32m    344\u001b[0m         \u001b[0mresponse\u001b[0m \u001b[1;33m=\u001b[0m \u001b[0mself\u001b[0m\u001b[1;33m.\u001b[0m\u001b[0mcommand_executor\u001b[0m\u001b[1;33m.\u001b[0m\u001b[0mexecute\u001b[0m\u001b[1;33m(\u001b[0m\u001b[0mdriver_command\u001b[0m\u001b[1;33m,\u001b[0m \u001b[0mparams\u001b[0m\u001b[1;33m)\u001b[0m\u001b[1;33m\u001b[0m\u001b[1;33m\u001b[0m\u001b[0m\n\u001b[0;32m    345\u001b[0m         \u001b[1;32mif\u001b[0m \u001b[0mresponse\u001b[0m\u001b[1;33m:\u001b[0m\u001b[1;33m\u001b[0m\u001b[1;33m\u001b[0m\u001b[0m\n\u001b[1;32m--> 346\u001b[1;33m             \u001b[0mself\u001b[0m\u001b[1;33m.\u001b[0m\u001b[0merror_handler\u001b[0m\u001b[1;33m.\u001b[0m\u001b[0mcheck_response\u001b[0m\u001b[1;33m(\u001b[0m\u001b[0mresponse\u001b[0m\u001b[1;33m)\u001b[0m\u001b[1;33m\u001b[0m\u001b[1;33m\u001b[0m\u001b[0m\n\u001b[0m\u001b[0;32m    347\u001b[0m             \u001b[0mresponse\u001b[0m\u001b[1;33m[\u001b[0m\u001b[1;34m\"value\"\u001b[0m\u001b[1;33m]\u001b[0m \u001b[1;33m=\u001b[0m \u001b[0mself\u001b[0m\u001b[1;33m.\u001b[0m\u001b[0m_unwrap_value\u001b[0m\u001b[1;33m(\u001b[0m\u001b[0mresponse\u001b[0m\u001b[1;33m.\u001b[0m\u001b[0mget\u001b[0m\u001b[1;33m(\u001b[0m\u001b[1;34m\"value\"\u001b[0m\u001b[1;33m,\u001b[0m \u001b[1;32mNone\u001b[0m\u001b[1;33m)\u001b[0m\u001b[1;33m)\u001b[0m\u001b[1;33m\u001b[0m\u001b[1;33m\u001b[0m\u001b[0m\n\u001b[0;32m    348\u001b[0m             \u001b[1;32mreturn\u001b[0m \u001b[0mresponse\u001b[0m\u001b[1;33m\u001b[0m\u001b[1;33m\u001b[0m\u001b[0m\n",
      "\u001b[1;32mC:\\ProgramData\\Anaconda3\\lib\\site-packages\\selenium\\webdriver\\remote\\errorhandler.py\u001b[0m in \u001b[0;36mcheck_response\u001b[1;34m(self, response)\u001b[0m\n\u001b[0;32m    243\u001b[0m                 \u001b[0malert_text\u001b[0m \u001b[1;33m=\u001b[0m \u001b[0mvalue\u001b[0m\u001b[1;33m[\u001b[0m\u001b[1;34m\"alert\"\u001b[0m\u001b[1;33m]\u001b[0m\u001b[1;33m.\u001b[0m\u001b[0mget\u001b[0m\u001b[1;33m(\u001b[0m\u001b[1;34m\"text\"\u001b[0m\u001b[1;33m)\u001b[0m\u001b[1;33m\u001b[0m\u001b[1;33m\u001b[0m\u001b[0m\n\u001b[0;32m    244\u001b[0m             \u001b[1;32mraise\u001b[0m \u001b[0mexception_class\u001b[0m\u001b[1;33m(\u001b[0m\u001b[0mmessage\u001b[0m\u001b[1;33m,\u001b[0m \u001b[0mscreen\u001b[0m\u001b[1;33m,\u001b[0m \u001b[0mstacktrace\u001b[0m\u001b[1;33m,\u001b[0m \u001b[0malert_text\u001b[0m\u001b[1;33m)\u001b[0m  \u001b[1;31m# type: ignore[call-arg]  # mypy is not smart enough here\u001b[0m\u001b[1;33m\u001b[0m\u001b[1;33m\u001b[0m\u001b[0m\n\u001b[1;32m--> 245\u001b[1;33m         \u001b[1;32mraise\u001b[0m \u001b[0mexception_class\u001b[0m\u001b[1;33m(\u001b[0m\u001b[0mmessage\u001b[0m\u001b[1;33m,\u001b[0m \u001b[0mscreen\u001b[0m\u001b[1;33m,\u001b[0m \u001b[0mstacktrace\u001b[0m\u001b[1;33m)\u001b[0m\u001b[1;33m\u001b[0m\u001b[1;33m\u001b[0m\u001b[0m\n\u001b[0m",
      "\u001b[1;31mNoSuchElementException\u001b[0m: Message: no such element: Unable to locate element: {\"method\":\"xpath\",\"selector\":\"//*[@id=\"#id\"]/div/div[2]/div[2]/div/div[16]/button\"}\n  (Session info: chrome=114.0.5735.248); For documentation on this error, please visit: https://www.selenium.dev/documentation/webdriver/troubleshooting/errors#no-such-element-exception\nStacktrace:\nBacktrace:\n\tGetHandleVerifier [0x0077A813+48355]\n\t(No symbol) [0x0070C4B1]\n\t(No symbol) [0x00615358]\n\t(No symbol) [0x006409A5]\n\t(No symbol) [0x00640B3B]\n\t(No symbol) [0x0066E232]\n\t(No symbol) [0x0065A784]\n\t(No symbol) [0x0066C922]\n\t(No symbol) [0x0065A536]\n\t(No symbol) [0x006382DC]\n\t(No symbol) [0x006393DD]\n\tGetHandleVerifier [0x009DAABD+2539405]\n\tGetHandleVerifier [0x00A1A78F+2800735]\n\tGetHandleVerifier [0x00A1456C+2775612]\n\tGetHandleVerifier [0x008051E0+616112]\n\t(No symbol) [0x00715F8C]\n\t(No symbol) [0x00712328]\n\t(No symbol) [0x0071240B]\n\t(No symbol) [0x00704FF7]\n\tBaseThreadInitThunk [0x765700C9+25]\n\tRtlGetAppContainerNamedObjectPath [0x77767B1E+286]\n\tRtlGetAppContainerNamedObjectPath [0x77767AEE+238]\n"
     ]
    }
   ],
   "source": [
    "url = f'https://www.valu.com.eg/Merchants'\n",
    "print(f\"Trying to visit: {url}\")\n",
    "scrap(url)\n",
    "print(f\"(used cars) - Page: {i} Loaded Successfully\")"
   ]
  },
  {
   "cell_type": "code",
   "execution_count": null,
   "id": "bb9adc50",
   "metadata": {},
   "outputs": [],
   "source": []
  },
  {
   "cell_type": "code",
   "execution_count": null,
   "id": "abe23619",
   "metadata": {},
   "outputs": [],
   "source": []
  }
 ],
 "metadata": {
  "kernelspec": {
   "display_name": "Python 3 (ipykernel)",
   "language": "python",
   "name": "python3"
  },
  "language_info": {
   "codemirror_mode": {
    "name": "ipython",
    "version": 3
   },
   "file_extension": ".py",
   "mimetype": "text/x-python",
   "name": "python",
   "nbconvert_exporter": "python",
   "pygments_lexer": "ipython3",
   "version": "3.9.7"
  }
 },
 "nbformat": 4,
 "nbformat_minor": 5
}
